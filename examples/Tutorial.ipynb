{
 "cells": [
  {
   "cell_type": "markdown",
   "metadata": {},
   "source": [
    "# funcX Tutorial\n",
    "\n",
    "funcX is a Function-as-a-Service (FaaS) platform for science that enables you to convert almost any computing resource into a high-performance function serving device. Deploying a funcX endpoint will integrate your resource into the function serving fabric, allowing you to dynamically send, monitor, and receive results from function invocations. funcX is built on top of Parsl, allowing you to connect your endpoint to large compute resources via traditional batch queues, where funcX will dynamically provision, use, and release resources on-demand to fulfill function requests.\n",
    "\n",
    "Here we provide an example of using funcX to register a function and run it on a publicly available tutorial endpoint."
   ]
  },
  {
   "cell_type": "markdown",
   "metadata": {},
   "source": [
    "We start by creating a funcX client to interact with the service."
   ]
  },
  {
   "cell_type": "code",
   "execution_count": 1,
   "metadata": {},
   "outputs": [],
   "source": [
    "from funcx.sdk.client import FuncXClient\n",
    "\n",
    "fxc = FuncXClient()"
   ]
  },
  {
   "cell_type": "markdown",
   "metadata": {},
   "source": [
    "Here we define the tutorial endpoint to be used in this demonstration. Because the tutorial endpoint is Kubernetes-based, we select a simple python3.6 container that will be used during execution."
   ]
  },
  {
   "cell_type": "code",
   "execution_count": 2,
   "metadata": {},
   "outputs": [],
   "source": [
    "def funcx_sum(items):\n",
    "    return sum(items)"
   ]
  },
  {
   "cell_type": "code",
   "execution_count": 3,
   "metadata": {},
   "outputs": [
    {
     "name": "stdout",
     "output_type": "stream",
     "text": [
      "b62ef266-e8fa-4c9c-8983-1bffe59fb8c7\n"
     ]
    }
   ],
   "source": [
    "func_uuid = fxc.register_function(funcx_sum,\n",
    "                                  description=\"A sum function\")\n",
    "print(func_uuid)"
   ]
  },
  {
   "cell_type": "code",
   "execution_count": 19,
   "metadata": {
    "scrolled": true
   },
   "outputs": [
    {
     "name": "stdout",
     "output_type": "stream",
     "text": [
      "86caa222-92fe-4130-9b71-91f292d1f90c\n"
     ]
    }
   ],
   "source": [
    "payload = [1, 2, 3, 4, 100]\n",
    "\n",
    "endpoint_uuid = '84457364-560e-40f8-8161-1c7321733eec'\n",
    "\n",
    "res = fxc.run(payload, endpoint_id=endpoint_uuid, function_id=func_uuid)\n",
    "print(res)"
   ]
  },
  {
   "cell_type": "code",
   "execution_count": null,
   "metadata": {},
   "outputs": [],
   "source": [
    "fxc.get_task_status(res)"
   ]
  },
  {
   "cell_type": "code",
   "execution_count": 20,
   "metadata": {},
   "outputs": [
    {
     "ename": "Exception",
     "evalue": "Task pending",
     "output_type": "error",
     "traceback": [
      "\u001b[0;31m---------------------------------------------------------------------------\u001b[0m",
      "\u001b[0;31mException\u001b[0m                                 Traceback (most recent call last)",
      "\u001b[0;32m<ipython-input-20-a2cd871b617a>\u001b[0m in \u001b[0;36m<module>\u001b[0;34m\u001b[0m\n\u001b[0;32m----> 1\u001b[0;31m \u001b[0mfxc\u001b[0m\u001b[0;34m.\u001b[0m\u001b[0mget_result\u001b[0m\u001b[0;34m(\u001b[0m\u001b[0mres\u001b[0m\u001b[0;34m)\u001b[0m\u001b[0;34m\u001b[0m\u001b[0;34m\u001b[0m\u001b[0m\n\u001b[0m",
      "\u001b[0;32m~/anaconda3/envs/dlhub-JPDC/lib/python3.6/site-packages/funcx/sdk/client.py\u001b[0m in \u001b[0;36mget_result\u001b[0;34m(self, task_id)\u001b[0m\n\u001b[1;32m    126\u001b[0m \u001b[0;34m\u001b[0m\u001b[0m\n\u001b[1;32m    127\u001b[0m         \u001b[0;32melse\u001b[0m\u001b[0;34m:\u001b[0m\u001b[0;34m\u001b[0m\u001b[0;34m\u001b[0m\u001b[0m\n\u001b[0;32m--> 128\u001b[0;31m             \u001b[0;32mraise\u001b[0m \u001b[0mException\u001b[0m\u001b[0;34m(\u001b[0m\u001b[0;34m\"Task pending\"\u001b[0m\u001b[0;34m)\u001b[0m\u001b[0;34m\u001b[0m\u001b[0;34m\u001b[0m\u001b[0m\n\u001b[0m\u001b[1;32m    129\u001b[0m \u001b[0;34m\u001b[0m\u001b[0m\n\u001b[1;32m    130\u001b[0m \u001b[0;34m\u001b[0m\u001b[0m\n",
      "\u001b[0;31mException\u001b[0m: Task pending"
     ]
    }
   ],
   "source": [
    "fxc.get_result(res)"
   ]
  },
  {
   "cell_type": "code",
   "execution_count": null,
   "metadata": {},
   "outputs": [],
   "source": [
    "def dlhub_test(data):\n",
    "    import sys, time, os\n",
    "    sys.path.append(\"/app\")\n",
    "    os.chdir(\"/app\")\n",
    "    sys.stdout = open(os.devnull, \"w\")\n",
    "    sys.stderr = open(os.devnull, \"w\")\n",
    "    os.environ[\"PYTHONWARNINGS\"]= \"ignore::DeprecationWarning\"\n",
    "    start = time.time()\n",
    "    global shim\n",
    "    if 'shim' not in globals():\n",
    "        import dlhub_shim\n",
    "        shim = dlhub_shim\n",
    "    res = []\n",
    "    for d in data:\n",
    "        x = shim.run(d)\n",
    "        res.append(x)\n",
    "    end = time.time()\n",
    "    return (res, (end - start) * 1000)"
   ]
  },
  {
   "cell_type": "code",
   "execution_count": null,
   "metadata": {},
   "outputs": [],
   "source": [
    "func_uuid = fxc.register_function(dlhub_test,\n",
    "                                  description=\"A sum function\")\n",
    "print(func_uuid)"
   ]
  },
  {
   "cell_type": "code",
   "execution_count": null,
   "metadata": {},
   "outputs": [],
   "source": [
    "data = [{'composition_object': 'gANjcHltYXRnZW4uY29yZS5jb21wb3NpdGlvbgpDb21wb3NpdGlvbgpxACmBcQF9cQIoWA4AAABh\\nbGxvd19uZWdhdGl2ZXEDiVgHAAAAX25hdG9tc3EER0AUAAAAAAAAWAUAAABfZGF0YXEFfXEGKGNw\\neW1hdGdlbi5jb3JlLnBlcmlvZGljX3RhYmxlCkVsZW1lbnQKcQdYAgAAAEFscQiFcQlScQpHQAAA\\nAAAAAABoB1gBAAAAT3ELhXEMUnENR0AIAAAAAAAAdXViLg==\\n'}]\n",
    "payload = [data for i in range(10)]\n",
    "\n",
    "endpoint_uuid = '18db8ad9-ab50-4ab6-b01d-655b4b5d97f3'\n",
    "\n",
    "res = fxc.run(payload, endpoint_id=endpoint_uuid, function_id=func_uuid)\n",
    "print(res)"
   ]
  },
  {
   "cell_type": "code",
   "execution_count": null,
   "metadata": {},
   "outputs": [],
   "source": [
    "\"import time\n",
    "start = time.time()\n",
    "while time.time() - start <= 300:\n",
    "    a = fxc.get_task_status(res)\n",
    "    if 'status' in a:\n",
    "        continue\n",
    "    elif 'result' in a:\n",
    "        res = a['result']\n",
    "        failed = False\n",
    "        break\n",
    "    elif 'exception' in a:\n",
    "        res = a['exception']\n",
    "        failed = True\n",
    "    time.sleep(1)\n",
    "    \n",
    "from funcx.serialize import FuncXSerializer\n",
    "fxs = FuncXSerializer()\n",
    "fxs.deserialize(res)\""
   ]
  },
  {
   "cell_type": "code",
   "execution_count": null,
   "metadata": {},
   "outputs": [],
   "source": [
    "fxs.deserialize(res)[0]"
   ]
  },
  {
   "cell_type": "code",
   "execution_count": null,
   "metadata": {},
   "outputs": [],
   "source": [
    "from funcx.serialize import FuncXSerializer\n",
    "fxs = FuncXSerializer()\n",
    "a = b'105\\n04\\ngANYCQAAAGZ1bmN4X3N1bXEAWCwAAABkZWYgZnVuY3hfc3VtKGl0ZW1zKToKICAgIHJldHVybiBz\\ndW0oaXRlbXMpCnEBhnECLg==\\n32\\n01\\ngANdcQAoSwFLAksDSwRLCmWFcQEu\\n12\\n01\\ngAN9cQAu\\n'\n",
    "a = a.decode()\n",
    "fxs.unpack_and_deserialize(a)"
   ]
  },
  {
   "cell_type": "code",
   "execution_count": null,
   "metadata": {},
   "outputs": [],
   "source": []
  }
 ],
 "metadata": {
  "kernelspec": {
   "display_name": "Python (dlhub-JPDC)",
   "language": "python",
   "name": "dlhub-jpdc"
  },
  "language_info": {
   "codemirror_mode": {
    "name": "ipython",
    "version": 3
   },
   "file_extension": ".py",
   "mimetype": "text/x-python",
   "name": "python",
   "nbconvert_exporter": "python",
   "pygments_lexer": "ipython3",
   "version": "3.6.7"
  }
 },
 "nbformat": 4,
 "nbformat_minor": 2
}
