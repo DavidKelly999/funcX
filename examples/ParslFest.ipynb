{
 "cells": [
  {
   "cell_type": "code",
   "execution_count": 1,
   "metadata": {},
   "outputs": [],
   "source": [
    "import json\n",
    "import sys\n",
    "\n",
    "from funcx.sdk.client import FuncXClient"
   ]
  },
  {
   "cell_type": "markdown",
   "metadata": {},
   "source": [
    "Create a funcX client. This will perform a Globus Auth login flow if you are not already logged in."
   ]
  },
  {
   "cell_type": "code",
   "execution_count": 2,
   "metadata": {
    "scrolled": true
   },
   "outputs": [],
   "source": [
    "fxc = FuncXClient()"
   ]
  },
  {
   "cell_type": "markdown",
   "metadata": {},
   "source": [
    "Define a function to run."
   ]
  },
  {
   "cell_type": "code",
   "execution_count": 3,
   "metadata": {},
   "outputs": [],
   "source": [
    "func = \"\"\"\n",
    "def test_platform(event):\n",
    "    import platform\n",
    "    return platform.uname()\n",
    "\"\"\""
   ]
  },
  {
   "cell_type": "markdown",
   "metadata": {},
   "source": [
    "Register the function with the funcX Web service."
   ]
  },
  {
   "cell_type": "code",
   "execution_count": 4,
   "metadata": {},
   "outputs": [
    {
     "name": "stdout",
     "output_type": "stream",
     "text": [
      "19cf6fc7-52e2-45f6-99dd-161310ffd7c4\n"
     ]
    }
   ],
   "source": [
    "func_uuid = fxc.register_function(\"test_platform\", func, \"test_platform\", \n",
    "                                  description=\"A test function.\")\n",
    "print(func_uuid)"
   ]
  },
  {
   "cell_type": "markdown",
   "metadata": {},
   "source": [
    "Define the UUID's of endpoints to send the function to."
   ]
  },
  {
   "cell_type": "code",
   "execution_count": 5,
   "metadata": {},
   "outputs": [],
   "source": [
    "laptop_uuid = \"a5c5f716-610e-40e1-9b9c-05c4b9a0a102\" # local\n",
    "theta_uuid = \"ad2fd055-46fb-430c-b872-8c924c03bb83\" # theta"
   ]
  },
  {
   "cell_type": "markdown",
   "metadata": {},
   "source": [
    "Run on my laptop"
   ]
  },
  {
   "cell_type": "code",
   "execution_count": 6,
   "metadata": {},
   "outputs": [
    {
     "name": "stdout",
     "output_type": "stream",
     "text": [
      "<FuncXFuture at 0x7faf83b3e6a0 state=running>\n",
      "['Linux', 'ryan-laptop', '5.0.0-29-generic', '#31~18.04.1-Ubuntu SMP Thu Sep 12 18:29:21 UTC 2019', 'x86_64', 'x86_64']\n"
     ]
    }
   ],
   "source": [
    "payload = None\n",
    "res = fxc.run(payload, laptop_uuid, func_uuid, asynchronous=True, async_poll=1)\n",
    "print(res)\n",
    "print(res.result())"
   ]
  },
  {
   "cell_type": "markdown",
   "metadata": {},
   "source": [
    "Run on Theta. The endpoint will need to first acquire a node before performing the function."
   ]
  },
  {
   "cell_type": "code",
   "execution_count": 7,
   "metadata": {},
   "outputs": [
    {
     "name": "stdout",
     "output_type": "stream",
     "text": [
      "<FuncXFuture at 0x7faf83b39588 state=running>\n",
      "['Linux', 'nid03162', '4.4.103-6.38_4.0.153-cray_ari_c', '#1 SMP Thu Nov 1 16:05:05 UTC 2018 (6ef8fef)', 'x86_64', 'x86_64']\n"
     ]
    }
   ],
   "source": [
    "res = fxc.run(payload, theta_uuid, func_uuid, asynchronous=True, async_poll=1)\n",
    "print(res)\n",
    "print(res.result())"
   ]
  },
  {
   "cell_type": "code",
   "execution_count": null,
   "metadata": {},
   "outputs": [],
   "source": []
  }
 ],
 "metadata": {
  "kernelspec": {
   "display_name": "Python (funcx)",
   "language": "python",
   "name": "funcx"
  },
  "language_info": {
   "codemirror_mode": {
    "name": "ipython",
    "version": 3
   },
   "file_extension": ".py",
   "mimetype": "text/x-python",
   "name": "python",
   "nbconvert_exporter": "python",
   "pygments_lexer": "ipython3",
   "version": "3.6.8"
  }
 },
 "nbformat": 4,
 "nbformat_minor": 2
}
