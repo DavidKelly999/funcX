{
 "cells": [
  {
   "cell_type": "markdown",
   "metadata": {},
   "source": [
    "# funcX Tutorial\n",
    "\n",
    "funcX is a Function-as-a-Service (FaaS) platform for science that enables you to convert almost any computing resource into a high-performance function serving device. Deploying a funcX endpoint will integrate your resource into the function serving fabric, allowing you to dynamically send, monitor, and receive results from function invocations. funcX is built on top of Parsl, allowing you to connect your endpoint to large compute resources via traditional batch queues, where funcX will dynamically provision, use, and release resources on-demand to fulfill function requests.\n",
    "\n",
    "Here we provide an example of using funcX to register a function and run it on a publicly available tutorial endpoint."
   ]
  },
  {
   "cell_type": "markdown",
   "metadata": {},
   "source": [
    "We start by creating a funcX client to interact with the service."
   ]
  },
  {
   "cell_type": "code",
   "execution_count": 1,
   "metadata": {},
   "outputs": [],
   "source": [
    "from funcx.sdk.client import FuncXClient\n",
    "\n",
    "fxc = FuncXClient()"
   ]
  },
  {
   "cell_type": "markdown",
   "metadata": {},
   "source": [
    "Here we define the tutorial endpoint to be used in this demonstration. Because the tutorial endpoint is Kubernetes-based, we select a simple python3.6 container that will be used during execution."
   ]
  },
  {
   "cell_type": "code",
   "execution_count": 2,
   "metadata": {},
   "outputs": [],
   "source": [
    "def funcx_sum(items):\n",
    "    import platform\n",
    "    return platform.uname()\n",
    "    return sum(items)"
   ]
  },
  {
   "cell_type": "code",
   "execution_count": 3,
   "metadata": {},
   "outputs": [
    {
     "name": "stdout",
     "output_type": "stream",
     "text": [
      "e8143512-9930-40c3-a480-4e18a6b18391\n"
     ]
    }
   ],
   "source": [
    "func_uuid = fxc.register_function(funcx_sum,\n",
    "                                  description=\"A sum function\")\n",
    "print(func_uuid)"
   ]
  },
  {
   "cell_type": "markdown",
   "metadata": {},
   "source": [
    "Define some endpoints to use."
   ]
  },
  {
   "cell_type": "code",
   "execution_count": 4,
   "metadata": {},
   "outputs": [],
   "source": [
    "laptop_uuid = 'cd052d75-d87c-4a17-90fc-8446e3bd827b'\n",
    "theta_login_uuid = 'cc04d7b0-b7d8-45a3-8e30-153bd11a085a'\n",
    "theta_compute_uuid = '5e0282ca-3918-4894-a83b-af105e6fa321'\n",
    "\n",
    "payload = [1, 2, 3, 4, 66]"
   ]
  },
  {
   "cell_type": "markdown",
   "metadata": {},
   "source": [
    "Laptop:"
   ]
  },
  {
   "cell_type": "code",
   "execution_count": 5,
   "metadata": {
    "scrolled": true
   },
   "outputs": [
    {
     "name": "stdout",
     "output_type": "stream",
     "text": [
      "bd350053-1516-4bf1-b41b-47c745a99cc4\n"
     ]
    },
    {
     "data": {
      "text/plain": [
       "uname_result(system='Linux', node='ryan-laptop', release='5.0.0-29-generic', version='#31~18.04.1-Ubuntu SMP Thu Sep 12 18:29:21 UTC 2019', machine='x86_64', processor='x86_64')"
      ]
     },
     "execution_count": 5,
     "metadata": {},
     "output_type": "execute_result"
    }
   ],
   "source": [
    "res = fxc.run(payload, endpoint_id=laptop_uuid, function_id=func_uuid)\n",
    "print(res)\n",
    "fxc.get_result(res)"
   ]
  },
  {
   "cell_type": "markdown",
   "metadata": {},
   "source": [
    "Theta login node:"
   ]
  },
  {
   "cell_type": "code",
   "execution_count": 6,
   "metadata": {},
   "outputs": [
    {
     "name": "stdout",
     "output_type": "stream",
     "text": [
      "0224df97-4233-40a5-95cf-ef523fb8cd5a\n"
     ]
    },
    {
     "data": {
      "text/plain": [
       "uname_result(system='Linux', node='thetalogin5', release='4.4.180-94.100-default', version='#1 SMP Tue Jul 9 19:57:20 UTC 2019 (1569ffb)', machine='x86_64', processor='x86_64')"
      ]
     },
     "execution_count": 6,
     "metadata": {},
     "output_type": "execute_result"
    }
   ],
   "source": [
    "res = fxc.run(payload, endpoint_id=theta_login_uuid, function_id=func_uuid)\n",
    "print(res)\n",
    "fxc.get_result(res)"
   ]
  },
  {
   "cell_type": "markdown",
   "metadata": {},
   "source": [
    "Theta backfill queue:"
   ]
  },
  {
   "cell_type": "code",
   "execution_count": 7,
   "metadata": {},
   "outputs": [
    {
     "name": "stdout",
     "output_type": "stream",
     "text": [
      "d7f861bd-a902-4fdb-a28a-db581ce29f67\n"
     ]
    },
    {
     "data": {
      "text/plain": [
       "uname_result(system='Linux', node='thetalogin5', release='4.4.180-94.100-default', version='#1 SMP Tue Jul 9 19:57:20 UTC 2019 (1569ffb)', machine='x86_64', processor='x86_64')"
      ]
     },
     "execution_count": 7,
     "metadata": {},
     "output_type": "execute_result"
    }
   ],
   "source": [
    "res = fxc.run(payload, endpoint_id=theta_compute_uuid, function_id=func_uuid)\n",
    "print(res)\n",
    "fxc.get_result(res)"
   ]
  },
  {
   "cell_type": "code",
   "execution_count": null,
   "metadata": {},
   "outputs": [],
   "source": []
  }
 ],
 "metadata": {
  "kernelspec": {
   "display_name": "Python 3",
   "language": "python",
   "name": "python3"
  },
  "language_info": {
   "codemirror_mode": {
    "name": "ipython",
    "version": 3
   },
   "file_extension": ".py",
   "mimetype": "text/x-python",
   "name": "python",
   "nbconvert_exporter": "python",
   "pygments_lexer": "ipython3",
   "version": "3.6.8"
  }
 },
 "nbformat": 4,
 "nbformat_minor": 2
}
