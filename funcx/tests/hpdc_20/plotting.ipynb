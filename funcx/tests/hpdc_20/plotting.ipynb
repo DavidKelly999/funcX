{
 "cells": [
  {
   "cell_type": "code",
   "execution_count": 1,
   "metadata": {},
   "outputs": [],
   "source": [
    "import matplotlib.pyplot as plt"
   ]
  },
  {
   "cell_type": "code",
   "execution_count": 3,
   "metadata": {},
   "outputs": [],
   "source": [
    "data = [(1579383908.3984518, \t 1579383908.5979533),\n",
    "(1579383910.6043108, \t 1579383910.7604122),\n",
    "(1579383912.7714493, \t 1579383913.0043256),\n",
    "(1579383915.008966, \t 1579383915.298239),\n",
    "(1579383917.3262398, \t 1579383917.4666243),\n",
    "(1579383919.4771438, \t 1579383919.6392186),\n",
    "(1579383921.647415, \t 1579383921.8890908),\n",
    "(1579383923.9034612, \t 1579383924.0792801),\n",
    "(1579383926.0902574, \t 1579383926.332112),\n",
    "(1579383928.3475819, \t 1579383928.6027975),\n",
    "(1579383930.594605, \t 1579383930.747305),\n",
    "(1579383932.7579489, \t 1579384003.1952322),\n",
    "(1579383935.0676186, \t 1579384003.206202),\n",
    "(1579383937.24613, \t 1579384003.189672),\n",
    "(1579383939.41098, \t 1579384003.1818266),\n",
    "(1579383941.5635848, \t 1579384003.2032437),\n",
    "(1579383943.719172, \t 1579384003.1885786),\n",
    "(1579383945.8873746, \t 1579384003.1967728),\n",
    "(1579383948.04721, \t 1579384003.1857824),\n",
    "(1579383950.2831461, \t 1579384003.1931493),\n",
    "(1579383952.4500928, \t 1579384003.2019732),\n",
    "(1579383954.610937, \t 1579384003.2084093),\n",
    "(1579383956.7915692, \t 1579384003.1871064),\n",
    "(1579383958.9541104, \t 1579384003.19179),\n",
    "(1579383961.1193807, \t 1579384003.2001371),\n",
    "(1579383963.6431692, \t 1579384003.204816),\n",
    "(1579383966.1804047, \t 1579384003.18489),\n",
    "(1579383968.3427904, \t 1579384003.187971),\n",
    "(1579383970.53015, \t 1579384003.1901627),\n",
    "(1579383972.747064, \t 1579384003.1945593),\n",
    "(1579383974.903188, \t 1579384003.1984782),\n",
    "(1579383977.087434, \t 1579384003.2040403),\n",
    "(1579383979.283387, \t 1579384003.2068944),\n",
    "(1579383981.5210319, \t 1579384003.1837072),\n",
    "(1579383983.803592, \t 1579384003.186253),\n",
    "(1579383985.9675543, \t 1579384003.1891475),\n",
    "(1579383988.185538, \t 1579384003.1908422),\n",
    "(1579383990.3856602, \t 1579384003.1939511),\n",
    "(1579383992.5621405, \t 1579384003.1960223),\n",
    "(1579383994.7879708, \t 1579384003.1993718),\n",
    "(1579383996.9659934, \t 1579384003.2025092),\n",
    "(1579383999.1334825, \t 1579384003.2055151),\n",
    "(1579384001.287387, \t 1579384003.2076132),\n",
    "(1579384003.4298854, \t 1579384004.5785525),\n",
    "(1579384005.6416574, \t 1579384006.7805438),\n",
    "(1579384007.8032515, \t 1579384008.952288),\n",
    "(1579384009.968734, \t 1579384011.166071),\n",
    "(1579384012.1779006, \t 1579384013.3298926),\n",
    "(1579384014.335751, \t 1579384015.4726079),\n",
    "(1579384016.4863608, \t 1579384017.681474),\n",
    "]"
   ]
  },
  {
   "cell_type": "code",
   "execution_count": 23,
   "metadata": {},
   "outputs": [],
   "source": [
    "import pickle\n",
    "\n",
    "with open('experiment.pkl', 'rb') as f:\n",
    "    data = pickle.load(f)"
   ]
  },
  {
   "cell_type": "code",
   "execution_count": 24,
   "metadata": {},
   "outputs": [],
   "source": [
    "starting_t = data['data'][0][0]\n",
    "\n",
    "updated_data = []\n",
    "for item in data['data']:\n",
    "    x = (item[0]-starting_t, item[1]-starting_t)\n",
    "    # print(x)\n",
    "    updated_data.append(x)"
   ]
  },
  {
   "cell_type": "code",
   "execution_count": 31,
   "metadata": {},
   "outputs": [
    {
     "name": "stdout",
     "output_type": "stream",
     "text": [
      "43.82768392562866 85.60413193702698\n"
     ]
    }
   ],
   "source": [
    "trigger_t = data['trigger_t'] - starting_t\n",
    "restart_t = data['restart_t'] - starting_t\n",
    "print(trigger_t, restart_t)"
   ]
  },
  {
   "cell_type": "code",
   "execution_count": 26,
   "metadata": {},
   "outputs": [
    {
     "name": "stdout",
     "output_type": "stream",
     "text": [
      "(0.0, 0.2722358703613281)\n",
      "(4.183649778366089, 4.445485353469849)\n",
      "(8.347456455230713, 8.58576488494873)\n",
      "(12.496505737304688, 12.742801904678345)\n",
      "(16.64969038963318, 16.884697914123535)\n",
      "(20.791396141052246, 21.0173819065094)\n",
      "(24.93553066253662, 25.210269927978516)\n",
      "(29.12113904953003, 29.374420642852783)\n",
      "(33.28014063835144, 33.617199659347534)\n",
      "(37.5314838886261, 37.80032992362976)\n",
      "(41.72343635559082, 42.05350923538208)\n",
      "(45.959468841552734, 90.00608205795288)\n",
      "(50.10744309425354, 90.21290493011475)\n",
      "(54.46797490119934, 89.89537310600281)\n",
      "(58.66538643836975, 90.10815405845642)\n",
      "(62.93154430389404, 89.79235005378723)\n",
      "(67.17524671554565, 89.78872179985046)\n",
      "(71.34603524208069, 90.11180853843689)\n",
      "(75.51391005516052, 89.89906978607178)\n",
      "(79.67506170272827, 90.21702408790588)\n",
      "(83.86740684509277, 90.00172805786133)\n",
      "(88.0963625907898, 90.32043933868408)\n",
      "(92.23343110084534, 93.4770188331604)\n",
      "(96.38784623146057, 97.98083281517029)\n",
      "(100.88601756095886, 102.41839265823364)\n",
      "(105.38032960891724, 106.71284699440002)\n",
      "(109.62072205543518, 110.89942145347595)\n",
      "(113.8154821395874, 115.30208349227905)\n",
      "(118.21534156799316, 119.4936535358429)\n",
      "(122.39954566955566, 123.65294575691223)\n",
      "(126.56853580474854, 127.81367254257202)\n",
      "(130.72713804244995, 131.97118163108826)\n",
      "(134.89246273040771, 136.14592599868774)\n",
      "(139.06315803527832, 140.2990517616272)\n",
      "(143.20353031158447, 144.47144508361816)\n",
      "(147.4021294116974, 148.65309023857117)\n",
      "(151.56740355491638, 152.83260655403137)\n",
      "(155.74446725845337, 157.14607858657837)\n",
      "(160.06654834747314, 161.32414197921753)\n",
      "(164.2287130355835, 165.53442811965942)\n",
      "(168.44752192497253, 168.7354817390442)\n",
      "(172.65307140350342, 172.930743932724)\n",
      "(176.83944869041443, 177.35884976387024)\n",
      "(181.255437374115, 181.55319261550903)\n",
      "(185.45553755760193, 185.7709937095642)\n",
      "(189.6816291809082, 189.92472410202026)\n",
      "(193.8355438709259, 194.09373927116394)\n",
      "(198.01156282424927, 198.2392978668213)\n",
      "(202.15377497673035, 202.48401594161987)\n",
      "(206.39528274536133, 206.61736464500427)\n"
     ]
    }
   ],
   "source": [
    "for item in updated_data:\n",
    "    print(item)"
   ]
  },
  {
   "cell_type": "code",
   "execution_count": 27,
   "metadata": {},
   "outputs": [],
   "source": [
    "tstamp = [item[0] for item in updated_data]\n",
    "latency = [item[1] - item[0] for item in updated_data]"
   ]
  },
  {
   "cell_type": "code",
   "execution_count": 28,
   "metadata": {
    "scrolled": true
   },
   "outputs": [
    {
     "data": {
      "image/png": "[encoded data removed]",
      "text/plain": [
       "<Figure size 432x216 with 1 Axes>"
      ]
     },
     "metadata": {},
     "output_type": "display_data"
    }
   ],
   "source": [
    "\n",
    "fig, ax = plt.subplots(figsize=(6, 3))\n",
    "# ax = plt.subplot(111, figsize=(6,3))\n",
    "plt.bar(tstamp, latency, width=1, color='blue')\n",
    "# ax.set_yscale('log')\n",
    "# ax.xaxis_date()\n",
    "plt.axvline(x=trigger_t, color='red', label='Endpoint lost', linestyle='--')\n",
    "plt.axvline(x=restart_t, color='green', label='Endpoint recovered', linestyle='--')\n",
    "ax.legend(loc='upper right', bbox_to_anchor=(1.00, 1),\n",
    "          ncol=1, fancybox=0, framealpha=0.8, fontsize=13)\n",
    "ax.set_xlabel(\"Elapsed time (s)\", fontsize=14)\n",
    "ax.set_ylabel(\"Task latency (s)\", fontsize=14)\n",
    "ax.tick_params(axis='both', which='major', labelsize=13, labelcolor='black')\n",
    "# plt.show()\n",
    "plt.savefig('ep-fault-tolerance.png', bbox_inches = \"tight\", dpi=1000)"
   ]
  },
  {
   "cell_type": "code",
   "execution_count": 30,
   "metadata": {},
   "outputs": [],
   "source": [
    "!cp ep-fault-tolerance.png ~/src/HPDC20/Figures"
   ]
  }
 ],
 "metadata": {
  "kernelspec": {
   "display_name": "Python 3",
   "language": "python",
   "name": "python3"
  },
  "language_info": {
   "codemirror_mode": {
    "name": "ipython",
    "version": 3
   },
   "file_extension": ".py",
   "mimetype": "text/x-python",
   "name": "python",
   "nbconvert_exporter": "python",
   "pygments_lexer": "ipython3",
   "version": "3.6.7"
  }
 },
 "nbformat": 4,
 "nbformat_minor": 2
}
