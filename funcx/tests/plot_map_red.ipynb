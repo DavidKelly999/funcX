{
 "cells": [
  {
   "cell_type": "code",
   "execution_count": 29,
   "metadata": {},
   "outputs": [],
   "source": [
    "import json\n",
    "import seaborn as sns"
   ]
  },
  {
   "cell_type": "code",
   "execution_count": 15,
   "metadata": {},
   "outputs": [],
   "source": [
    "with open('results.json') as f:\n",
    "    raw_data = f.readlines()"
   ]
  },
  {
   "cell_type": "code",
   "execution_count": 16,
   "metadata": {},
   "outputs": [
    {
     "data": {
      "text/plain": [
       "['{\"tasks\": 1000000, \"chunkcount\": 1, \"time\": 11.337035417556763, \"workers\": 2, \"task_dur_s\": 1e-05}\\n',\n",
       " '{\"tasks\": 1000000, \"chunkcount\": 2, \"time\": 6.539937973022461, \"workers\": 2, \"task_dur_s\": 1e-05}\\n',\n",
       " '{\"tasks\": 1000000, \"chunkcount\": 4, \"time\": 6.534830808639526, \"workers\": 2, \"task_dur_s\": 1e-05}\\n',\n",
       " '{\"tasks\": 1000000, \"chunkcount\": 8, \"time\": 6.208547353744507, \"workers\": 2, \"task_dur_s\": 1e-05}\\n',\n",
       " '{\"tasks\": 1000000, \"chunkcount\": 16, \"time\": 6.05049729347229, \"workers\": 2, \"task_dur_s\": 1e-05}\\n',\n",
       " '{\"tasks\": 1000000, \"chunkcount\": 1, \"time\": 11.31022596359253, \"workers\": 2, \"task_dur_s\": 1e-05}\\n',\n",
       " '{\"tasks\": 1000000, \"chunkcount\": 2, \"time\": 6.49355411529541, \"workers\": 2, \"task_dur_s\": 1e-05}\\n',\n",
       " '{\"tasks\": 1000000, \"chunkcount\": 4, \"time\": 6.5208070278167725, \"workers\": 2, \"task_dur_s\": 1e-05}\\n',\n",
       " '{\"tasks\": 1000000, \"chunkcount\": 8, \"time\": 6.3920979499816895, \"workers\": 2, \"task_dur_s\": 1e-05}\\n',\n",
       " '{\"tasks\": 1000000, \"chunkcount\": 16, \"time\": 6.483109951019287, \"workers\": 2, \"task_dur_s\": 1e-05}\\n',\n",
       " '{\"tasks\": 1000000, \"chunkcount\": 1, \"time\": 11.310042381286621, \"workers\": 2, \"task_dur_s\": 1e-05}\\n',\n",
       " '{\"tasks\": 1000000, \"chunkcount\": 2, \"time\": 6.018977880477905, \"workers\": 2, \"task_dur_s\": 1e-05}\\n',\n",
       " '{\"tasks\": 1000000, \"chunkcount\": 4, \"time\": 6.488682270050049, \"workers\": 2, \"task_dur_s\": 1e-05}\\n',\n",
       " '{\"tasks\": 1000000, \"chunkcount\": 8, \"time\": 6.208979606628418, \"workers\": 2, \"task_dur_s\": 1e-05}\\n',\n",
       " '{\"tasks\": 1000000, \"chunkcount\": 16, \"time\": 7.039641380310059, \"workers\": 2, \"task_dur_s\": 1e-05}\\n',\n",
       " '{\"tasks\": 1000000, \"chunkcount\": 1, \"time\": 13.85243034362793, \"workers\": 1, \"task_dur_s\": 1e-05}\\n',\n",
       " '{\"tasks\": 1000000, \"chunkcount\": 2, \"time\": 28.436833381652832, \"workers\": 1, \"task_dur_s\": 1e-05}\\n',\n",
       " '{\"tasks\": 1000000, \"chunkcount\": 4, \"time\": 11.426746606826782, \"workers\": 1, \"task_dur_s\": 1e-05}\\n',\n",
       " '{\"tasks\": 1000000, \"chunkcount\": 8, \"time\": 11.443362474441528, \"workers\": 1, \"task_dur_s\": 1e-05}\\n',\n",
       " '{\"tasks\": 1000000, \"chunkcount\": 16, \"time\": 11.814596891403198, \"workers\": 1, \"task_dur_s\": 1e-05}\\n',\n",
       " '{\"tasks\": 1000000, \"chunkcount\": 1, \"time\": 11.78734827041626, \"workers\": 1, \"task_dur_s\": 1e-05}\\n',\n",
       " '{\"tasks\": 1000000, \"chunkcount\": 2, \"time\": 11.45602560043335, \"workers\": 1, \"task_dur_s\": 1e-05}\\n',\n",
       " '{\"tasks\": 1000000, \"chunkcount\": 4, \"time\": 11.462029695510864, \"workers\": 1, \"task_dur_s\": 1e-05}\\n',\n",
       " '{\"tasks\": 1000000, \"chunkcount\": 8, \"time\": 11.265276193618774, \"workers\": 1, \"task_dur_s\": 1e-05}\\n',\n",
       " '{\"tasks\": 1000000, \"chunkcount\": 16, \"time\": 11.338663339614868, \"workers\": 1, \"task_dur_s\": 1e-05}\\n',\n",
       " '{\"tasks\": 1000000, \"chunkcount\": 1, \"time\": 11.363102436065674, \"workers\": 1, \"task_dur_s\": 1e-05}\\n',\n",
       " '{\"tasks\": 1000000, \"chunkcount\": 2, \"time\": 10.602078199386597, \"workers\": 1, \"task_dur_s\": 1e-05}\\n',\n",
       " '{\"tasks\": 1000000, \"chunkcount\": 4, \"time\": 10.886100769042969, \"workers\": 1, \"task_dur_s\": 1e-05}\\n',\n",
       " '{\"tasks\": 1000000, \"chunkcount\": 8, \"time\": 11.266865015029907, \"workers\": 1, \"task_dur_s\": 1e-05}\\n',\n",
       " '{\"tasks\": 1000000, \"chunkcount\": 16, \"time\": 11.07891321182251, \"workers\": 1, \"task_dur_s\": 1e-05}\\n',\n",
       " '{\"tasks\": 1000000, \"chunkcount\": 1, \"time\": 15.52234959602356, \"workers\": 4, \"task_dur_s\": 1e-05}\\n',\n",
       " '{\"tasks\": 1000000, \"chunkcount\": 2, \"time\": 6.791341781616211, \"workers\": 4, \"task_dur_s\": 1e-05}\\n',\n",
       " '{\"tasks\": 1000000, \"chunkcount\": 4, \"time\": 5.560508966445923, \"workers\": 4, \"task_dur_s\": 1e-05}\\n',\n",
       " '{\"tasks\": 1000000, \"chunkcount\": 8, \"time\": 4.81955885887146, \"workers\": 4, \"task_dur_s\": 1e-05}\\n',\n",
       " '{\"tasks\": 1000000, \"chunkcount\": 16, \"time\": 5.439116716384888, \"workers\": 4, \"task_dur_s\": 1e-05}\\n',\n",
       " '{\"tasks\": 1000000, \"chunkcount\": 1, \"time\": 11.586522817611694, \"workers\": 4, \"task_dur_s\": 1e-05}\\n',\n",
       " '{\"tasks\": 1000000, \"chunkcount\": 2, \"time\": 7.048991680145264, \"workers\": 4, \"task_dur_s\": 1e-05}\\n',\n",
       " '{\"tasks\": 1000000, \"chunkcount\": 4, \"time\": 3.828669548034668, \"workers\": 4, \"task_dur_s\": 1e-05}\\n',\n",
       " '{\"tasks\": 1000000, \"chunkcount\": 8, \"time\": 3.7763102054595947, \"workers\": 4, \"task_dur_s\": 1e-05}\\n',\n",
       " '{\"tasks\": 1000000, \"chunkcount\": 16, \"time\": 6.799170255661011, \"workers\": 4, \"task_dur_s\": 1e-05}\\n',\n",
       " '{\"tasks\": 1000000, \"chunkcount\": 1, \"time\": 10.884008407592773, \"workers\": 4, \"task_dur_s\": 1e-05}\\n',\n",
       " '{\"tasks\": 1000000, \"chunkcount\": 2, \"time\": 6.200960636138916, \"workers\": 4, \"task_dur_s\": 1e-05}\\n',\n",
       " '{\"tasks\": 1000000, \"chunkcount\": 4, \"time\": 4.003885507583618, \"workers\": 4, \"task_dur_s\": 1e-05}\\n',\n",
       " '{\"tasks\": 1000000, \"chunkcount\": 8, \"time\": 4.365884780883789, \"workers\": 4, \"task_dur_s\": 1e-05}\\n',\n",
       " '{\"tasks\": 1000000, \"chunkcount\": 16, \"time\": 5.079753875732422, \"workers\": 4, \"task_dur_s\": 1e-05}\\n']"
      ]
     },
     "execution_count": 16,
     "metadata": {},
     "output_type": "execute_result"
    }
   ],
   "source": [
    "raw_data"
   ]
  },
  {
   "cell_type": "code",
   "execution_count": 17,
   "metadata": {},
   "outputs": [],
   "source": [
    "cdata = {}\n",
    "\n",
    "for line in raw_data:\n",
    "    j = json.loads(line)\n",
    "    w = j['workers']\n",
    "    chunkcount=j['chunkcount']\n",
    "    t = j['time']\n",
    "    if w not in cdata:\n",
    "        cdata[w] = {1:99999, 2:99999, 4:99999, 8:99999, 16:99999}\n",
    "    cdata[w][chunkcount] = min(cdata[w][chunkcount], t) "
   ]
  },
  {
   "cell_type": "code",
   "execution_count": 20,
   "metadata": {},
   "outputs": [
    {
     "name": "stdout",
     "output_type": "stream",
     "text": [
      "2 {1: 11.310042381286621, 2: 6.018977880477905, 4: 6.488682270050049, 8: 6.208547353744507, 16: 6.05049729347229}\n",
      "1 {1: 11.363102436065674, 2: 10.602078199386597, 4: 10.886100769042969, 8: 11.265276193618774, 16: 11.07891321182251}\n",
      "4 {1: 10.884008407592773, 2: 6.200960636138916, 4: 3.828669548034668, 8: 3.7763102054595947, 16: 5.079753875732422}\n"
     ]
    }
   ],
   "source": [
    "for i in cdata:\n",
    "    print(i, cdata[i])"
   ]
  },
  {
   "cell_type": "code",
   "execution_count": 21,
   "metadata": {},
   "outputs": [],
   "source": [
    "import matplotlib.pyplot as plt"
   ]
  },
  {
   "cell_type": "code",
   "execution_count": 52,
   "metadata": {},
   "outputs": [
    {
     "name": "stdout",
     "output_type": "stream",
     "text": [
      "[11.363102436065674, 10.602078199386597, 10.886100769042969, 11.265276193618774, 11.07891321182251]\n"
     ]
    },
    {
     "data": {
      "image/png": "[encoded data removed]",
      "text/plain": [
       "<Figure size 792x288 with 1 Axes>"
      ]
     },
     "metadata": {},
     "output_type": "display_data"
    }
   ],
   "source": [
    "fig, ax = plt.subplots(figsize=(11,4))\n",
    "\n",
    "\n",
    "xdata = [1,2,4,8,16]\n",
    "ydata = [cdata[1][i] for i in xdata]\n",
    "print(ydata)\n",
    "plt.plot(xdata, ydata, \n",
    "         label='workers=1', c=sns.color_palette()[1], linewidth=2)\n",
    "ydata = [cdata[2][i] for i in xdata]\n",
    "plt.plot(xdata, ydata, \n",
    "         label='workers=2', c=sns.color_palette()[2], linewidth=2)\n",
    "ydata = [cdata[4][i] for i in xdata]\n",
    "plt.plot(xdata, ydata, \n",
    "         label='workers=4', c=sns.color_palette()[9], linewidth=2)\n",
    "legend = plt.legend(loc='upper right', \n",
    "                    ncol=1, \n",
    "                    bbox_to_anchor=(1, 0.8), \n",
    "                    columnspacing=-0.2,\n",
    "                    labelspacing=0.15,\n",
    "                    fancybox=True, frameon=True, fontsize=15, framealpha=0)\n",
    "plt.setp(legend.get_texts(), color='black')\n",
    "legend.get_frame().set_edgecolor('black')\n",
    "legend.get_frame().set_linewidth(1)\n",
    "ax.tick_params(axis='y', which='minor')\n",
    "ax.tick_params(axis='both', which='major', pad=0, labelsize=17, labelcolor='black')\n",
    "ax.set_xticks(xdata)\n",
    "ax.set_ylabel('Time to completion(s)', fontsize=17, color='black')\n",
    "ax.set_xlabel('# of batches', labelpad=0, fontsize=17, color='black')\n",
    "plt.savefig('map_primitives.png', \n",
    "            bbox_inches = \"tight\", \n",
    "            dpi=1000)"
   ]
  },
  {
   "cell_type": "code",
   "execution_count": 53,
   "metadata": {},
   "outputs": [],
   "source": [
    "!cp map_primitives.png ~/src/HPDC20/Figures/"
   ]
  },
  {
   "cell_type": "code",
   "execution_count": 54,
   "metadata": {},
   "outputs": [
    {
     "name": "stdout",
     "output_type": "stream",
     "text": [
      "{1: 10.884008407592773, 2: 6.200960636138916, 4: 3.828669548034668, 8: 3.7763102054595947, 16: 5.079753875732422}\n"
     ]
    }
   ],
   "source": [
    "print(cdata[4])"
   ]
  }
 ],
 "metadata": {
  "kernelspec": {
   "display_name": "Python 3",
   "language": "python",
   "name": "python3"
  },
  "language_info": {
   "codemirror_mode": {
    "name": "ipython",
    "version": 3
   },
   "file_extension": ".py",
   "mimetype": "text/x-python",
   "name": "python",
   "nbconvert_exporter": "python",
   "pygments_lexer": "ipython3",
   "version": "3.6.7"
  }
 },
 "nbformat": 4,
 "nbformat_minor": 2
}
